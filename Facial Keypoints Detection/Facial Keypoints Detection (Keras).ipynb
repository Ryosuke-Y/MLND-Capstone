{
 "cells": [
  {
   "cell_type": "markdown",
   "metadata": {},
   "source": [
    "#  Kaggle Facial Keypoints Detection"
   ]
  },
  {
   "cell_type": "code",
   "execution_count": null,
   "metadata": {
    "collapsed": true
   },
   "outputs": [],
   "source": [
    "import os\n",
    "\n",
    "import numpy as np\n",
    "from pandas.io.parsers import read_csv\n",
    "from sklearn.utils import shuffle\n",
    "from keras.models import Sequential\n",
    "from keras.layers import Dense, Activation\n",
    "from keras.optimizers import SGD\n",
    "from matplotlib import pyplot\n",
    "%matplotlib inline\n",
    "\n",
    "FTRAIN = 'training.csv'\n",
    "FTEST = 'test.csv'"
   ]
  },
  {
   "cell_type": "markdown",
   "metadata": {},
   "source": [
    "### Define the load function"
   ]
  },
  {
   "cell_type": "code",
   "execution_count": null,
   "metadata": {
    "collapsed": false
   },
   "outputs": [],
   "source": [
    "def load(test=False, cols=None):\n",
    "    \"\"\"If test is true, we load the data from FTEST.\n",
    "    If test is False, we load the data from FTRAIN.\n",
    "    \"\"\"\n",
    "\n",
    "    fname = FTEST if test else FTRAIN\n",
    "    df = read_csv(os.path.expanduser(fname)) # use pandas dataframe\n",
    "\n",
    "    # convert the pixel value to numpy array\n",
    "    df['Image'] = df['Image'].apply(lambda im: np.fromstring(im, sep=' '))\n",
    "\n",
    "    if cols:  \n",
    "        df = df[list(cols) + ['Image']]\n",
    "\n",
    "    print(df.count()) \n",
    "    df = df.dropna()  # drop the missing row\n",
    "\n",
    "    X = np.vstack(df['Image'].values) / 255.  # convert the value from 0 to 1\n",
    "    X = X.astype(np.float32)\n",
    "\n",
    "    if not test:  # Only FTRAIN has labbels\n",
    "        y = df[df.columns[:-1]].values\n",
    "        y = (y - 48) / 48  # convert the value from 0 to 1\n",
    "        X, y = shuffle(X, y, random_state=42)  # shuffle the data\n",
    "        y = y.astype(np.float32)\n",
    "    else:\n",
    "        y = None\n",
    "\n",
    "    return X, y\n",
    "\n",
    "X, y = load()\n",
    "print(\"X.shape == {}; X.min == {:.3f}; X.max == {:.3f}\".format(\n",
    "    X.shape, X.min(), X.max()))\n",
    "print(\"y.shape == {}; y.min == {:.3f}; y.max == {:.3f}\".format(\n",
    "    y.shape, y.min(), y.max()))"
   ]
  },
  {
   "cell_type": "markdown",
   "metadata": {},
   "source": [
    "### Model 1: One Hidden layer"
   ]
  },
  {
   "cell_type": "code",
   "execution_count": null,
   "metadata": {
    "collapsed": false
   },
   "outputs": [],
   "source": [
    "from keras.models import Sequential\n",
    "from keras.layers import Dense, Activation\n",
    "from keras.optimizers import SGD\n",
    "\n",
    "model = Sequential()\n",
    "model.add(Dense(100, input_dim=9216)) # 96x96 input pixels per batch, number of units in hidden layer\n",
    "model.add(Activation('relu'))\n",
    "model.add(Dense(30)) # 30 target values\n",
    "\n",
    "sgd = SGD(lr=0.01, momentum=0.9, nesterov=True)\n",
    "model.compile(optimizer=sgd,loss='mse')\n",
    "# SGD(lr=0.01, momentum=0.0, decay=0.0, nesterov=False)\n",
    "hist = model.fit(X, y, nb_epoch=100, validation_split=0.2)"
   ]
  },
  {
   "cell_type": "markdown",
   "metadata": {},
   "source": [
    "### Learning Curve"
   ]
  },
  {
   "cell_type": "code",
   "execution_count": null,
   "metadata": {
    "collapsed": false
   },
   "outputs": [],
   "source": [
    "from matplotlib import pyplot\n",
    "\n",
    "pyplot.plot(hist.history['loss'], linewidth=3, label='train')\n",
    "pyplot.plot(hist.history['val_loss'], linewidth=3, label='valid')\n",
    "pyplot.grid()\n",
    "pyplot.legend()\n",
    "pyplot.xlabel('epoch')\n",
    "pyplot.ylabel('loss')\n",
    "pyplot.ylim(1e-3, 1e-2)\n",
    "pyplot.yscale('log')\n",
    "pyplot.show()"
   ]
  },
  {
   "cell_type": "markdown",
   "metadata": {},
   "source": [
    "### Confirm the keypoint"
   ]
  },
  {
   "cell_type": "code",
   "execution_count": null,
   "metadata": {
    "collapsed": false
   },
   "outputs": [],
   "source": [
    "def plot_sample(x, y, axis):\n",
    "    img = x.reshape(96, 96)\n",
    "    axis.imshow(img, cmap='gray')\n",
    "    axis.scatter(y[0::2] * 48 + 48, y[1::2] * 48 + 48, marker='x', s=10)\n",
    "\n",
    "X_test, _ = load(test=True)\n",
    "y_test = model.predict(X_test)\n",
    "\n",
    "fig = pyplot.figure(figsize=(6, 6))\n",
    "fig.subplots_adjust(\n",
    "    left=0, right=1, bottom=0, top=1, hspace=0.05, wspace=0.05)\n",
    "\n",
    "for i in range(16):\n",
    "    axis = fig.add_subplot(4, 4, i+1, xticks=[], yticks=[])\n",
    "    plot_sample(X_test[i], y_test[i], axis)\n",
    "\n",
    "pyplot.show()"
   ]
  },
  {
   "cell_type": "markdown",
   "metadata": {},
   "source": [
    "### Save  the  model 1"
   ]
  },
  {
   "cell_type": "code",
   "execution_count": null,
   "metadata": {
    "collapsed": true
   },
   "outputs": [],
   "source": [
    "from keras.models import model_from_json\n",
    "\n",
    "json_string = model.to_json()\n",
    "open('model1_architecture.json', 'w').write(json_string)\n",
    "model.save_weights('model1_weights.h5')\n"
   ]
  },
  {
   "cell_type": "markdown",
   "metadata": {},
   "source": [
    "### Load the model 1"
   ]
  },
  {
   "cell_type": "code",
   "execution_count": null,
   "metadata": {
    "collapsed": true
   },
   "outputs": [],
   "source": [
    "# Load the train data\n",
    "model = model_from_json(open('model1_architecture.json').read())\n",
    "model.load_weights('model1_weights.h5')"
   ]
  },
  {
   "cell_type": "markdown",
   "metadata": {},
   "source": [
    "## Model 2: Convolutional Neural Network"
   ]
  },
  {
   "cell_type": "code",
   "execution_count": null,
   "metadata": {
    "collapsed": true
   },
   "outputs": [],
   "source": [
    "def load2d(test=False, cols=None):\n",
    "    X, y = load(test, cols)\n",
    "    X = X.reshape(-1, 1, 96, 96)\n",
    "    return X, y"
   ]
  },
  {
   "cell_type": "markdown",
   "metadata": {},
   "source": [
    "### Build the model\n",
    "\n",
    "- convolutional layer: 3 layers"
   ]
  },
  {
   "cell_type": "code",
   "execution_count": null,
   "metadata": {
    "collapsed": false
   },
   "outputs": [],
   "source": [
    "from keras.layers import Convolution2D, MaxPooling2D, Flatten\n",
    "\n",
    "X, y = load2d()\n",
    "model2 = Sequential()\n",
    "\n",
    "model2.add(Convolution2D(32, 3, 3, input_shape=(1, 96, 96), dim_ordering='th'))\n",
    "model2.add(Activation('relu'))\n",
    "model2.add(MaxPooling2D(pool_size=(2, 2)))\n",
    "\n",
    "model2.add(Convolution2D(64, 2, 2))\n",
    "model2.add(Activation('relu'))\n",
    "model2.add(MaxPooling2D(pool_size=(2, 2)))\n",
    "\n",
    "model2.add(Convolution2D(128, 2, 2))\n",
    "model2.add(Activation('relu'))\n",
    "model2.add(MaxPooling2D(pool_size=(2, 2)))\n",
    "\n",
    "model2.add(Flatten())\n",
    "model2.add(Dense(500))\n",
    "model2.add(Activation('relu'))\n",
    "model2.add(Dense(500))\n",
    "model2.add(Activation('relu'))\n",
    "model2.add(Dense(30))\n",
    "\n",
    "sgd = SGD(lr=0.01, momentum=0.9, nesterov=True)\n",
    "model2.compile(optimizer=sgd, loss='mse')\n",
    "hist2 = model2.fit(X, y, nb_epoch=1000, validation_split=0.2)"
   ]
  },
  {
   "cell_type": "markdown",
   "metadata": {},
   "source": [
    "### Save the model2"
   ]
  },
  {
   "cell_type": "code",
   "execution_count": null,
   "metadata": {
    "collapsed": false
   },
   "outputs": [],
   "source": [
    "json_string = model.to_json()\n",
    "open('model2_architecture.json', 'w').write(json_string)\n",
    "model.save_weights('model2_weights.h5')"
   ]
  },
  {
   "cell_type": "markdown",
   "metadata": {},
   "source": [
    "### Load the model 2"
   ]
  },
  {
   "cell_type": "code",
   "execution_count": null,
   "metadata": {
    "collapsed": true
   },
   "outputs": [],
   "source": [
    "# Load the train data\n",
    "model = model_from_json(open('model2_architecture.json').read())\n",
    "model.load_weights('model2_weights.h5')"
   ]
  },
  {
   "cell_type": "markdown",
   "metadata": {},
   "source": [
    "### Confirm the keypoint"
   ]
  },
  {
   "cell_type": "code",
   "execution_count": null,
   "metadata": {
    "collapsed": true
   },
   "outputs": [],
   "source": [
    "sample1 = load(test=True)[0][6:7]\n",
    "sample2 = load2d(test=True)[0][6:7]\n",
    "y_pred1 = model.predict(sample1)[0]\n",
    "y_pred2 = model2.predict(sample2)[0]\n",
    "\n",
    "fig = pyplot.figure(figsize=(6, 3))\n",
    "ax = fig.add_subplot(1, 2, 1, xticks=[], yticks=[])\n",
    "plot_sample(sample1, y_pred1, ax)\n",
    "ax = fig.add_subplot(1, 2, 2, xticks=[], yticks=[])\n",
    "plot_sample(sample2, y_pred2, ax)\n",
    "pyplot.show()"
   ]
  },
  {
   "cell_type": "markdown",
   "metadata": {},
   "source": [
    "### Data Augmentation\n",
    "\n",
    "**Flipping the image**"
   ]
  },
  {
   "cell_type": "code",
   "execution_count": null,
   "metadata": {
    "collapsed": true
   },
   "outputs": [],
   "source": [
    "X, y = load2d()\n",
    "X_flipped = X[:, :, :, ::-1]\n",
    "\n",
    "fig = pyplot.figure(figsize=(6, 3))\n",
    "ax = fig.add_subplot(1, 2, 1, xticks=[], yticks=[])\n",
    "plot_sample(X[1], y[1], ax)\n",
    "ax = fig.add_subplot(1, 2, 2, xticks=[], yticks=[])\n",
    "plot_sample(X_flipped[1], y[1], ax)\n",
    "pyplot.show()"
   ]
  },
  {
   "cell_type": "markdown",
   "metadata": {},
   "source": [
    "**Flipping the keypoint**"
   ]
  },
  {
   "cell_type": "code",
   "execution_count": null,
   "metadata": {
    "collapsed": true
   },
   "outputs": [],
   "source": [
    "flip_indices = [\n",
    "    (0, 2), (1, 3),\n",
    "    (4, 8), (5, 9), (6, 10), (7, 11),\n",
    "    (12, 16), (13, 17), (14, 18), (15, 19),\n",
    "    (22, 24), (23, 25),\n",
    "    ]\n",
    "\n",
    "df = read_csv(os.path.expanduser(FTRAIN))\n",
    "for i, j in flip_indices:\n",
    "    print(\"{} -> {}\".format(df.columns[i], df.columns[j]))"
   ]
  },
  {
   "cell_type": "markdown",
   "metadata": {},
   "source": [
    "** Flipped Image Data Generator Class**"
   ]
  },
  {
   "cell_type": "code",
   "execution_count": null,
   "metadata": {
    "collapsed": true
   },
   "outputs": [],
   "source": [
    "class FlippedImageDataGenerator(ImageDataGenerator):\n",
    "    flip_indices = [(0, 2), (1, 3),(4, 8), (5, 9), (6, 10), (7, 11),(12, 16), (13, 17), (14, 18), (15, 19),(22, 24), (23, 25),]\n",
    "\n",
    "    def next(self):\n",
    "        X_batch, y_batch = super(FlippedImageDataGenerator, self).next()\n",
    "        batch_size = X_batch.shape[0]\n",
    "        indices = np.random.choice(batch_size, batch_size/2, replace=False)\n",
    "        X_batch[indices] = X_batch[indices, :, :, ::-1]\n",
    "\n",
    "        if y_batch is not None:\n",
    "            # flip the x coordinate\n",
    "            y_batch[indices, ::2] = y_batch[indices, ::2] * -1\n",
    "\n",
    "            # e.g.)left_eye_center_x -> right_eye_center_x\n",
    "            for a, b in self.flip_indices:\n",
    "                y_batch[indices, a], y_batch[indices, b] = (y_batch[indices, b], y_batch[indices, a])\n",
    "\n",
    "        return X_batch, y_batch"
   ]
  },
  {
   "cell_type": "code",
   "execution_count": null,
   "metadata": {
    "collapsed": true
   },
   "outputs": [],
   "source": [
    "from sklearn.cross_validation import train_test_split\n",
    "\n",
    "X, y = load2d()\n",
    "X_train, X_val, y_train, y_val = train_test_split(X, y, test_size=0.2, random_state=42)\n",
    "\n",
    "model3 = Sequential()\n",
    "\n",
    "model3.add(Convolution2D(32, 3, 3, input_shape=(1, 96, 96)))\n",
    "model3.add(Activation('relu'))\n",
    "model3.add(MaxPooling2D(pool_size=(2, 2)))\n",
    "\n",
    "model3.add(Convolution2D(64, 2, 2))\n",
    "model3.add(Activation('relu'))\n",
    "model3.add(MaxPooling2D(pool_size=(2, 2)))\n",
    "\n",
    "model3.add(Convolution2D(128, 2, 2))\n",
    "model3.add(Activation('relu'))\n",
    "model3.add(MaxPooling2D(pool_size=(2, 2)))\n",
    "\n",
    "model3.add(Flatten())\n",
    "model3.add(Dense(500))\n",
    "model3.add(Activation('relu'))\n",
    "model3.add(Dense(500))\n",
    "model3.add(Activation('relu'))\n",
    "model3.add(Dense(30))\n",
    "\n",
    "sgd = SGD(lr='0.01', momentum=0.9, nesterov=True)\n",
    "model3.compile(loss='mean_squared_error', optimizer=sgd)\n",
    "flipgen = FlippedImageDataGenerator()\n",
    "hist3 = model3.fit_generator(flipgen.flow(X_train, y_train),samples_per_epoch=X_train.shape[0],nb_epoch=3000,validation_data=(X_val, y_val))"
   ]
  }
 ],
 "metadata": {
  "anaconda-cloud": {},
  "kernelspec": {
   "display_name": "Python [conda env:yourNewEnvironment]",
   "language": "python",
   "name": "conda-env-yourNewEnvironment-py"
  },
  "language_info": {
   "codemirror_mode": {
    "name": "ipython",
    "version": 3
   },
   "file_extension": ".py",
   "mimetype": "text/x-python",
   "name": "python",
   "nbconvert_exporter": "python",
   "pygments_lexer": "ipython3",
   "version": "3.5.2"
  }
 },
 "nbformat": 4,
 "nbformat_minor": 2
}
